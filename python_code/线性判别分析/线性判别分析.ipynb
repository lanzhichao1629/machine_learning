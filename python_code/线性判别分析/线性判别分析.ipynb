{
 "cells": [
  {
   "cell_type": "code",
   "execution_count": 2,
   "id": "8950ee56",
   "metadata": {},
   "outputs": [],
   "source": [
    "import numpy as np\n",
    "import matplotlib.pyplot as plt"
   ]
  },
  {
   "cell_type": "code",
   "execution_count": 3,
   "id": "9bceec03",
   "metadata": {},
   "outputs": [],
   "source": [
    "data = [[0.697, 0.460, 1],\n",
    "        [0.774, 0.376, 1],\n",
    "        [0.634, 0.264, 1],\n",
    "        [0.608, 0.318, 1],\n",
    "        [0.556, 0.215, 1],\n",
    "        [0.403, 0.237, 1],\n",
    "        [0.481, 0.149, 1],\n",
    "        [0.437, 0.211, 1],\n",
    "        [0.666, 0.091, 0],\n",
    "        [0.243, 0.267, 0],\n",
    "        [0.245, 0.057, 0],\n",
    "        [0.343, 0.099, 0],\n",
    "        [0.639, 0.161, 0],\n",
    "        [0.657, 0.198, 0],\n",
    "        [0.360, 0.370, 0],\n",
    "        [0.593, 0.042, 0],\n",
    "        [0.719, 0.103, 0]] "
   ]
  },
  {
   "cell_type": "code",
   "execution_count": 4,
   "id": "a6e50feb",
   "metadata": {},
   "outputs": [
    {
     "name": "stdout",
     "output_type": "stream",
     "text": [
      "[[1.01674285]\n",
      " [5.52422978]]\n"
     ]
    },
    {
     "name": "stderr",
     "output_type": "stream",
     "text": [
      "D:\\software\\Anaconda\\lib\\site-packages\\numpy\\core\\_asarray.py:171: VisibleDeprecationWarning: Creating an ndarray from ragged nested sequences (which is a list-or-tuple of lists-or-tuples-or ndarrays with different lengths or shapes) is deprecated. If you meant to do this, you must specify 'dtype=object' when creating the ndarray.\n",
      "  return array(a, dtype, copy=False, order=order, subok=True)\n"
     ]
    },
    {
     "data": {
      "image/png": "[encoded data removed]",
      "text/plain": [
       "<Figure size 432x288 with 1 Axes>"
      ]
     },
     "metadata": {
      "needs_background": "light"
     },
     "output_type": "display_data"
    }
   ],
   "source": [
    "#数据集按瓜好坏分类\n",
    "data = np.array([i[:-1] for i in data])\n",
    "X0 = np.array(data[:8])\n",
    "X1 = np.array(data[8:])\n",
    "#求正反例均值\n",
    "miu0 = np.mean(X0, axis=0).reshape((-1, 1))\n",
    "miu1 = np.mean(X1, axis=0).reshape((-1, 1))\n",
    "#求协方差\n",
    "cov0 = np.cov(X0, rowvar=False)\n",
    "cov1 = np.cov(X1, rowvar=False)\n",
    "#求出w\n",
    "S_w = np.mat(cov0 + cov1)\n",
    "Omiga = S_w.I * (miu0 - miu1)\n",
    "print(Omiga)\n",
    "#画出点、直线\n",
    "plt.scatter(X0[:, 0], X0[:, 1], c='b', label='+', marker = '+')\n",
    "plt.scatter(X1[:, 0], X1[:, 1], c='r', label='-', marker = '_')\n",
    "plt.plot([0, 1], [0, -Omiga[0] / Omiga[1]], label='y')\n",
    "plt.xlabel('密度', fontproperties='SimHei', fontsize=15, color='green');\n",
    "plt.ylabel('含糖率', fontproperties='SimHei', fontsize=15, color='green');\n",
    "plt.title(r'3.5 线性判别分析', fontproperties='SimHei', fontsize=25);\n",
    "plt.legend()\n",
    "plt.show()"
   ]
  },
  {
   "cell_type": "code",
   "execution_count": 4,
   "id": "cfa30e9e",
   "metadata": {},
   "outputs": [
    {
     "name": "stdout",
     "output_type": "stream",
     "text": [
      "[[1.01674285]\n",
      " [5.52422978]]\n"
     ]
    }
   ],
   "source": [
    "print(Omiga)"
   ]
  },
  {
   "cell_type": "code",
   "execution_count": null,
   "id": "87c29395",
   "metadata": {},
   "outputs": [],
   "source": []
  }
 ],
 "metadata": {
  "kernelspec": {
   "display_name": "Python 3",
   "language": "python",
   "name": "python3"
  },
  "language_info": {
   "codemirror_mode": {
    "name": "ipython",
    "version": 3
   },
   "file_extension": ".py",
   "mimetype": "text/x-python",
   "name": "python",
   "nbconvert_exporter": "python",
   "pygments_lexer": "ipython3",
   "version": "3.8.8"
  }
 },
 "nbformat": 4,
 "nbformat_minor": 5
}
