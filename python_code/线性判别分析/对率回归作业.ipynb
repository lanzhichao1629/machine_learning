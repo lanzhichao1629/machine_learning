{
 "cells": [
  {
   "cell_type": "code",
   "execution_count": 35,
   "id": "6e7885d3",
   "metadata": {},
   "outputs": [],
   "source": [
    "import numpy as np\n",
    "import pandas as pd\n",
    "import matplotlib.pyplot as plt "
   ]
  },
  {
   "cell_type": "code",
   "execution_count": 36,
   "id": "0bcba2f6",
   "metadata": {},
   "outputs": [],
   "source": [
    "datas = [[0.697, 0.460, 1],\n",
    "        [0.774, 0.376, 1],\n",
    "        [0.634, 0.264, 1],\n",
    "        [0.608, 0.318, 1],\n",
    "        [0.556, 0.215, 1],\n",
    "        [0.403, 0.237, 1],\n",
    "        [0.481, 0.149, 1],\n",
    "        [0.437, 0.211, 1],\n",
    "        [0.666, 0.091, 1],\n",
    "        [0.243, 0.267, 1],\n",
    "        [0.245, 0.057, 1],\n",
    "        [0.343, 0.099, 1],\n",
    "        [0.639, 0.161, 1],\n",
    "        [0.657, 0.198, 1],\n",
    "        [0.360, 0.370, 1],\n",
    "        [0.593, 0.042, 1],\n",
    "        [0.719, 0.103, 1]]\n",
    "\n",
    "data = np.matrix(datas)\n",
    "#生成标签矩阵\n",
    "labels=np.matrix([[1],[1],[1],[1],[1],[1],[1],[1],[0],[0],[0],[0],[0],[0],[0],[0],[0]]) # 17行1列的矩阵"
   ]
  },
  {
   "cell_type": "code",
   "execution_count": 37,
   "id": "6ef72581",
   "metadata": {},
   "outputs": [],
   "source": [
    "#sigmoid函数\n",
    "def sigmoid(z):\n",
    "    return 1.0/(1.0 + np.exp(-z))"
   ]
  },
  {
   "cell_type": "code",
   "execution_count": 42,
   "id": "17fb4cde",
   "metadata": {},
   "outputs": [],
   "source": [
    "#迭代训练，求出w\n",
    "def gradAscend(data,labels):\n",
    "    m = data.shape[0]\n",
    "    n = data.shape[1]\n",
    "    step=0.001\n",
    "    time=200000\n",
    "    weights=np.ones((n,1))\n",
    "    for i in range(time):\n",
    "        h=sigmoid(data*weights)\n",
    "        error=labels-h\n",
    "        weights=weights+step*data.T*error\n",
    "    return weights"
   ]
  },
  {
   "cell_type": "code",
   "execution_count": 43,
   "id": "e4794598",
   "metadata": {},
   "outputs": [
    {
     "name": "stdout",
     "output_type": "stream",
     "text": [
      "[[ 3.11960737]\n",
      " [12.3729686 ]\n",
      " [-4.37761924]]\n"
     ]
    }
   ],
   "source": [
    "w=gradAscend(data,labels)\n",
    "print(w)"
   ]
  },
  {
   "cell_type": "code",
   "execution_count": 44,
   "id": "ff79cceb",
   "metadata": {},
   "outputs": [],
   "source": [
    "data1 = np.array(data)\n",
    "X1 = data1[0]"
   ]
  },
  {
   "cell_type": "code",
   "execution_count": 51,
   "id": "248002d0",
   "metadata": {},
   "outputs": [
    {
     "data": {
      "image/png": "[encoded data removed]",
      "text/plain": [
       "<Figure size 432x288 with 1 Axes>"
      ]
     },
     "metadata": {
      "needs_background": "light"
     },
     "output_type": "display_data"
    }
   ],
   "source": [
    "data1 = np.array(data)\n",
    "X1=[]\n",
    "X2=[]\n",
    "Y1=[]\n",
    "Y2=[]\n",
    "\n",
    "#将好瓜与坏瓜的数据集分开，画出各自的散点图\n",
    "for i in range(7):\n",
    "    X1.append(data1[i,0])\n",
    "    Y1.append(data1[i,1])\n",
    "for i in range(7,16):\n",
    "    X2.append(data1[i,0])\n",
    "    Y2.append(data1[i,1])\n",
    "    \n",
    "plt.scatter(X1,Y1,c='seaGreen')\n",
    "plt.scatter(X2,Y2,c='y')\n",
    "\n",
    "x1=np.arange(0,1,step=0.01)\n",
    "plt.plot(x1,(-x1*w[0,0]-w[2,0])/w[1,0],linewidth='2',c='r')\n",
    "plt.show()"
   ]
  },
  {
   "cell_type": "code",
   "execution_count": null,
   "id": "fd0d1541",
   "metadata": {},
   "outputs": [],
   "source": []
  },
  {
   "cell_type": "code",
   "execution_count": null,
   "id": "6824f69b",
   "metadata": {},
   "outputs": [],
   "source": []
  }
 ],
 "metadata": {
  "kernelspec": {
   "display_name": "Python 3",
   "language": "python",
   "name": "python3"
  },
  "language_info": {
   "codemirror_mode": {
    "name": "ipython",
    "version": 3
   },
   "file_extension": ".py",
   "mimetype": "text/x-python",
   "name": "python",
   "nbconvert_exporter": "python",
   "pygments_lexer": "ipython3",
   "version": "3.8.8"
  }
 },
 "nbformat": 4,
 "nbformat_minor": 5
}
