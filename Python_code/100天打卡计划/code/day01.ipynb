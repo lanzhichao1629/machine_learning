{
 "cells": [
  {
   "cell_type": "markdown",
   "id": "ddaa6d1e",
   "metadata": {},
   "source": [
    "### First step:导入库"
   ]
  },
  {
   "cell_type": "code",
   "execution_count": 96,
   "id": "9b3e09aa",
   "metadata": {},
   "outputs": [],
   "source": [
    "import numpy as np \n",
    "import pandas as pd"
   ]
  },
  {
   "cell_type": "code",
   "execution_count": null,
   "id": "67877870",
   "metadata": {},
   "outputs": [],
   "source": []
  },
  {
   "cell_type": "markdown",
   "id": "cffc8d4b",
   "metadata": {},
   "source": [
    "### Second step:读取数据集Data.csc"
   ]
  },
  {
   "cell_type": "code",
   "execution_count": 97,
   "id": "9265a98e",
   "metadata": {},
   "outputs": [],
   "source": [
    "#typedict = {'Age':pd.Int64Dtype(),'Salary':pd.Int64Dtype()}     # 在列包含空值时，pandas无法读取为int类型，我们可以指定为Int64Dtype\n",
    "datasets = pd.read_csv('Data.csv')   # 该数据集最后想要学得的模型是预测购买情况\n",
    "#print(datasets.iloc[0])             # dataframe.iloc[index]返回索引为index行的数据\n",
    "#print(datasets.iloc[0].values)      # .values返回给定dataframe的numpy形式\n",
    "X = datasets.iloc[:,:-1].values      # X代表数据集中各属性的取值，如城市，薪水，年龄等\n",
    "Y = datasets.iloc[:,-1].values       # Y代表数据集中标签：如是否购买"
   ]
  },
  {
   "cell_type": "code",
   "execution_count": 98,
   "id": "49cbc070",
   "metadata": {
    "scrolled": true
   },
   "outputs": [
    {
     "name": "stdout",
     "output_type": "stream",
     "text": [
      "[['France' 44.0 72000.0]\n",
      " ['Spain' 27.0 48000.0]\n",
      " ['Germany' 30.0 54000.0]\n",
      " ['Spain' 38.0 61000.0]\n",
      " ['Germany' 40.0 nan]\n",
      " ['France' 35.0 58000.0]\n",
      " ['Spain' nan 52000.0]\n",
      " ['France' 48.0 79000.0]\n",
      " ['Germany' 50.0 83000.0]\n",
      " ['France' 37.0 67000.0]]\n"
     ]
    }
   ],
   "source": [
    "print(X)"
   ]
  },
  {
   "cell_type": "markdown",
   "id": "c2d56442",
   "metadata": {},
   "source": [
    "### Third step：缺失值处理"
   ]
  },
  {
   "cell_type": "code",
   "execution_count": 99,
   "id": "669ba821",
   "metadata": {},
   "outputs": [
    {
     "name": "stdout",
     "output_type": "stream",
     "text": [
      "[['France' 44 72000]\n",
      " ['Spain' 27 48000]\n",
      " ['Germany' 30 54000]\n",
      " ['Spain' 38 61000]\n",
      " ['Germany' 40 63777]\n",
      " ['France' 35 58000]\n",
      " ['Spain' 38 52000]\n",
      " ['France' 48 79000]\n",
      " ['Germany' 50 83000]\n",
      " ['France' 37 67000]]\n"
     ]
    }
   ],
   "source": [
    "from sklearn.impute import SimpleImputer\n",
    "imp_mean = SimpleImputer(missing_values=np.nan,strategy='mean')    # median代表中位数\n",
    "imp_mean.fit(X[:,1:3])\n",
    "X[:,1:3] = imp_mean.transform(X[:,1:3])\n",
    "X[:,1:3] = X[:,1:3].astype(int)                                    # 将年龄与薪水转换为int类型\n",
    "print(X)"
   ]
  },
  {
   "cell_type": "code",
   "execution_count": null,
   "id": "b9c9f272",
   "metadata": {},
   "outputs": [],
   "source": []
  },
  {
   "cell_type": "markdown",
   "id": "74703440",
   "metadata": {},
   "source": [
    "### fourth step:编码分类数据"
   ]
  },
  {
   "cell_type": "code",
   "execution_count": 100,
   "id": "42f049c8",
   "metadata": {},
   "outputs": [
    {
     "name": "stdout",
     "output_type": "stream",
     "text": [
      "[[0 44 72000]\n",
      " [2 27 48000]\n",
      " [1 30 54000]\n",
      " [2 38 61000]\n",
      " [1 40 63777]\n",
      " [0 35 58000]\n",
      " [2 38 52000]\n",
      " [0 48 79000]\n",
      " [1 50 83000]\n",
      " [0 37 67000]]\n"
     ]
    }
   ],
   "source": [
    "from sklearn.preprocessing import LabelEncoder, OneHotEncoder\n",
    "from sklearn.compose import ColumnTransformer\n",
    "labelencoder = LabelEncoder()\n",
    "labelencoder.fit(X[:,0])\n",
    "X[:,0] = labelencoder.transform(X[:,0])\n",
    "labelencoder.fit(Y)\n",
    "Y = labelencoder.transform(Y)\n",
    "print(X)"
   ]
  },
  {
   "cell_type": "code",
   "execution_count": 101,
   "id": "c35d0e7f",
   "metadata": {},
   "outputs": [
    {
     "name": "stdout",
     "output_type": "stream",
     "text": [
      "[[1.0 0.0 0.0 44 72000]\n",
      " [0.0 0.0 1.0 27 48000]\n",
      " [0.0 1.0 0.0 30 54000]\n",
      " [0.0 0.0 1.0 38 61000]\n",
      " [0.0 1.0 0.0 40 63777]\n",
      " [1.0 0.0 0.0 35 58000]\n",
      " [0.0 0.0 1.0 38 52000]\n",
      " [1.0 0.0 0.0 48 79000]\n",
      " [0.0 1.0 0.0 50 83000]\n",
      " [1.0 0.0 0.0 37 67000]]\n"
     ]
    }
   ],
   "source": [
    "# 利用OnehotEnconder将属性值转化为对应维数的值\n",
    "\n",
    "ct = ColumnTransformer([(\"Country\", OneHotEncoder(), [0])], remainder = 'passthrough')\n",
    "X = ct.fit_transform(X)\n",
    "# onehotencoder = OneHotEncoder(categorical_features = [0])     # categorical_features参数已经取消\n",
    "# X = onehotencoder.fit_transform(X).toarray()\n",
    "print(X)"
   ]
  },
  {
   "cell_type": "code",
   "execution_count": null,
   "id": "8b66a5a0",
   "metadata": {},
   "outputs": [],
   "source": []
  },
  {
   "cell_type": "markdown",
   "id": "6eca3a90",
   "metadata": {},
   "source": [
    "### Fifth step:划分数据集"
   ]
  },
  {
   "cell_type": "code",
   "execution_count": 105,
   "id": "039964ed",
   "metadata": {},
   "outputs": [
    {
     "name": "stdout",
     "output_type": "stream",
     "text": [
      "[[0.0 1.0 0.0 40 63777]\n",
      " [1.0 0.0 0.0 37 67000]\n",
      " [0.0 0.0 1.0 27 48000]\n",
      " [0.0 0.0 1.0 38 52000]\n",
      " [1.0 0.0 0.0 48 79000]\n",
      " [0.0 0.0 1.0 38 61000]\n",
      " [1.0 0.0 0.0 44 72000]\n",
      " [1.0 0.0 0.0 35 58000]] [[0.0 1.0 0.0 30 54000]\n",
      " [0.0 1.0 0.0 50 83000]] [1 1 1 0 1 0 0 1] [0 0]\n"
     ]
    }
   ],
   "source": [
    "from sklearn.model_selection import train_test_split\n",
    "# test_size代表测试集的比例，random_state代表随机种子,保证每次产生的划分是相同的\n",
    "X_train,X_test,Y_train,Y_test = train_test_split(X,Y,test_size=0.2,random_state=0)\n",
    "print(X_train,X_test,Y_train,Y_test)"
   ]
  },
  {
   "cell_type": "code",
   "execution_count": null,
   "id": "f4a1dac8",
   "metadata": {},
   "outputs": [],
   "source": []
  },
  {
   "cell_type": "markdown",
   "id": "d39b6bcf",
   "metadata": {},
   "source": [
    "### Sixth step:特征缩放"
   ]
  },
  {
   "cell_type": "code",
   "execution_count": 106,
   "id": "a5b23449",
   "metadata": {},
   "outputs": [
    {
     "name": "stdout",
     "output_type": "stream",
     "text": [
      "[[-1.          2.64575131 -0.77459667  0.27978024  0.12374357]\n",
      " [ 1.         -0.37796447 -0.77459667 -0.23673712  0.4617671 ]\n",
      " [-1.         -0.37796447  1.29099445 -1.95846165 -1.53092514]\n",
      " [-1.         -0.37796447  1.29099445 -0.06456467 -1.11141099]\n",
      " [ 1.         -0.37796447 -0.77459667  1.65715986  1.72030956]\n",
      " [-1.         -0.37796447  1.29099445 -0.06456467 -0.16750414]\n",
      " [ 1.         -0.37796447 -0.77459667  0.96847005  0.98615979]\n",
      " [ 1.         -0.37796447 -0.77459667 -0.58108203 -0.48213975]]\n",
      "[[ 0.  0.  0. -1. -1.]\n",
      " [ 0.  0.  0.  1.  1.]]\n"
     ]
    }
   ],
   "source": [
    "from sklearn.preprocessing import StandardScaler\n",
    "sc_X = StandardScaler()\n",
    "X_train = sc_X.fit_transform(X_train)\n",
    "X_test = sc_X.fit_transform(X_test)\n",
    "print(X_train)\n",
    "print(X_test)"
   ]
  }
 ],
 "metadata": {
  "kernelspec": {
   "display_name": "Python 3",
   "language": "python",
   "name": "python3"
  },
  "language_info": {
   "codemirror_mode": {
    "name": "ipython",
    "version": 3
   },
   "file_extension": ".py",
   "mimetype": "text/x-python",
   "name": "python",
   "nbconvert_exporter": "python",
   "pygments_lexer": "ipython3",
   "version": "3.8.8"
  }
 },
 "nbformat": 4,
 "nbformat_minor": 5
}
