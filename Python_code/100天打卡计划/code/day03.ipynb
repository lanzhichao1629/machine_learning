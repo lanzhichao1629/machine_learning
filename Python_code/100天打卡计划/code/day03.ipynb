{
 "cells": [
  {
   "cell_type": "markdown",
   "id": "bd5cb8f8",
   "metadata": {},
   "source": [
    "### 导入库与数据集"
   ]
  },
  {
   "cell_type": "code",
   "execution_count": 24,
   "id": "c2c02d4a",
   "metadata": {},
   "outputs": [],
   "source": [
    "import numpy as np\n",
    "import pandas as pd"
   ]
  },
  {
   "cell_type": "code",
   "execution_count": 25,
   "id": "e54026b5",
   "metadata": {},
   "outputs": [],
   "source": [
    "datasets = pd.read_csv(\"50_startups.csv\")\n",
    "X = datasets.iloc[:,:-1].values\n",
    "Y = datasets.iloc[:,-1].values"
   ]
  },
  {
   "cell_type": "markdown",
   "id": "7d59ec71",
   "metadata": {},
   "source": [
    "### 数据预处理"
   ]
  },
  {
   "cell_type": "code",
   "execution_count": 26,
   "id": "e3e4775a",
   "metadata": {},
   "outputs": [
    {
     "name": "stdout",
     "output_type": "stream",
     "text": [
      "R&D Spend          False\n",
      "Administration     False\n",
      "Marketing Spend    False\n",
      "State              False\n",
      "Profit             False\n",
      "dtype: bool\n"
     ]
    }
   ],
   "source": [
    "from sklearn.preprocessing import LabelEncoder,OneHotEncoder\n",
    "from sklearn.compose import ColumnTransformer\n",
    "print(datasets.isnull().any())       # 判断是否有缺失值\n",
    "labelencoder = LabelEncoder()\n",
    "labelencoder.fit(X[:,3])\n",
    "X[:,3] = labelencoder.transform(X[:,3])"
   ]
  },
  {
   "cell_type": "code",
   "execution_count": null,
   "id": "a7d28ee8",
   "metadata": {},
   "outputs": [],
   "source": []
  },
  {
   "cell_type": "code",
   "execution_count": 27,
   "id": "7b19febf",
   "metadata": {},
   "outputs": [],
   "source": [
    "# 利用OnehotEnconder将属性值转化为对应维数的值\n",
    "\n",
    "ct = ColumnTransformer([(\"State\", OneHotEncoder(dtype=int), [3])], remainder = 'passthrough')\n",
    "X = ct.fit_transform(X)\n",
    "# print(X)"
   ]
  },
  {
   "cell_type": "code",
   "execution_count": 28,
   "id": "40c60109",
   "metadata": {},
   "outputs": [],
   "source": [
    "# 避免虚拟变量陷阱(多重共线性)\n",
    "X = X[:,1:]\n",
    "# print(X)"
   ]
  },
  {
   "cell_type": "code",
   "execution_count": null,
   "id": "3207323e",
   "metadata": {},
   "outputs": [],
   "source": []
  },
  {
   "cell_type": "markdown",
   "id": "ab6987b2",
   "metadata": {},
   "source": [
    "### 拆分数据集为训练集和测试集"
   ]
  },
  {
   "cell_type": "code",
   "execution_count": 29,
   "id": "581558b2",
   "metadata": {},
   "outputs": [],
   "source": [
    "from sklearn.model_selection import train_test_split\n",
    "X_train,X_test,Y_train,Y_test = train_test_split(X,Y,test_size=0.3,random_state=0)"
   ]
  },
  {
   "cell_type": "code",
   "execution_count": null,
   "id": "827ae639",
   "metadata": {},
   "outputs": [],
   "source": []
  },
  {
   "cell_type": "markdown",
   "id": "c1c3ff2a",
   "metadata": {},
   "source": [
    "### 在训练集上训练多元线性回归模型"
   ]
  },
  {
   "cell_type": "code",
   "execution_count": 32,
   "id": "694b07ec",
   "metadata": {},
   "outputs": [
    {
     "data": {
      "text/plain": [
       "LinearRegression()"
      ]
     },
     "execution_count": 32,
     "metadata": {},
     "output_type": "execute_result"
    }
   ],
   "source": [
    "from sklearn.linear_model import LinearRegression\n",
    "linear_reg = LinearRegression()\n",
    "linear_reg.fit(X_train,Y_train)"
   ]
  },
  {
   "cell_type": "code",
   "execution_count": 34,
   "id": "30a858e5",
   "metadata": {},
   "outputs": [
    {
     "name": "stdout",
     "output_type": "stream",
     "text": [
      "[104282.76472172 132536.88499212 133910.85007767  72584.77489417\n",
      " 179920.9276189  114549.31079232  66444.43261346  98404.96840123\n",
      " 114499.82808601 169367.50639895  96522.62539981  88040.6718287\n",
      " 110949.99405526  90419.18978509 128020.46250064]\n"
     ]
    }
   ],
   "source": [
    "predict = linear_reg.predict(X_test)\n",
    "print(predict)"
   ]
  },
  {
   "cell_type": "markdown",
   "id": "be7b0085",
   "metadata": {},
   "source": []
  }
 ],
 "metadata": {
  "kernelspec": {
   "display_name": "Python 3",
   "language": "python",
   "name": "python3"
  },
  "language_info": {
   "codemirror_mode": {
    "name": "ipython",
    "version": 3
   },
   "file_extension": ".py",
   "mimetype": "text/x-python",
   "name": "python",
   "nbconvert_exporter": "python",
   "pygments_lexer": "ipython3",
   "version": "3.8.8"
  }
 },
 "nbformat": 4,
 "nbformat_minor": 5
}
