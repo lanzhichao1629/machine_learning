{
 "cells": [
  {
   "cell_type": "code",
   "execution_count": 181,
   "id": "819defd0",
   "metadata": {},
   "outputs": [],
   "source": [
    "import numpy as np\n",
    "import pandas as pd\n",
    "import matplotlib.pyplot as plt "
   ]
  },
  {
   "cell_type": "code",
   "execution_count": 183,
   "id": "a49bc924",
   "metadata": {},
   "outputs": [],
   "source": [
    "# 导入西瓜数据\n",
    "data = [[0.697, 0.460, 1],\n",
    "        [0.774, 0.376, 1],\n",
    "        [0.634, 0.264, 1],\n",
    "        [0.608, 0.318, 1],\n",
    "        [0.556, 0.215, 1],\n",
    "        [0.403, 0.237, 1],\n",
    "        [0.481, 0.149, 1],\n",
    "        [0.437, 0.211, 1],\n",
    "        [0.666, 0.091, 0],\n",
    "        [0.243, 0.267, 0],\n",
    "        [0.245, 0.057, 0],\n",
    "        [0.343, 0.099, 0],\n",
    "        [0.639, 0.161, 0],\n",
    "        [0.657, 0.198, 0],\n",
    "        [0.360, 0.370, 0],\n",
    "        [0.593, 0.042, 0],\n",
    "        [0.719, 0.103, 0]]"
   ]
  },
  {
   "cell_type": "code",
   "execution_count": 185,
   "id": "5626f5a2",
   "metadata": {},
   "outputs": [],
   "source": [
    "def createDataSet():\n",
    "    group=np.matrix(data)\n",
    "    labels = np.matrix([[1],[1],[1],[1],[1],[1],[1],[1],[0],[0],[0],[0],[0],[0],[0],[0],[0]])\n",
    "    return group,labels"
   ]
  },
  {
   "cell_type": "code",
   "execution_count": 186,
   "id": "f44c2e2a",
   "metadata": {},
   "outputs": [],
   "source": [
    "#sigmoid函数\n",
    "def sigmoid(z):\n",
    "    return 1.0/(1.0 + np.exp(-z))"
   ]
  },
  {
   "cell_type": "code",
   "execution_count": 187,
   "id": "e6fffd9a",
   "metadata": {},
   "outputs": [],
   "source": [
    "def gradAscend(data,labels):\n",
    "    m = data.shape[0]\n",
    "    n = data.shape[1]\n",
    "    step=0.001\n",
    "    time=1000\n",
    "    weights=np.ones((n,1))\n",
    "    for i in range(time):\n",
    "        h=sigmoid(data*weights)\n",
    "        error=labels-h\n",
    "        weights=weights+step*data.T*error\n",
    "    return weights"
   ]
  },
  {
   "cell_type": "code",
   "execution_count": 189,
   "id": "aaf7732f",
   "metadata": {},
   "outputs": [
    {
     "name": "stdout",
     "output_type": "stream",
     "text": [
      "[[-0.73056812]\n",
      " [ 0.55264663]\n",
      " [ 2.13465297]]\n"
     ]
    },
    {
     "data": {
      "image/png": "[encoded data removed]",
      "text/plain": [
       "<Figure size 432x288 with 1 Axes>"
      ]
     },
     "metadata": {
      "needs_background": "light"
     },
     "output_type": "display_data"
    }
   ],
   "source": [
    "\n",
    "group,labels = createDataSet()\n",
    "w=gradAscend(group,labels)\n",
    "print(w)\n",
    "data = np.array(group)\n",
    "X1=[]\n",
    "X2=[]\n",
    "Y1=[]\n",
    "Y2=[]\n",
    "for i in range(7):\n",
    "    X1.append(data[i,0])\n",
    "    Y1.append(data[i,1])\n",
    "for i in range(7,16):\n",
    "    X2.append(data[i,0])\n",
    "    Y2.append(data[i,1])\n",
    "    \n",
    "plt.scatter(X1,Y1,c='red')\n",
    "plt.scatter(X2,Y2,c='blue')\n",
    "x1 = np.arange(0,1,step=0.01)\n",
    "#plt.plot(x1,(-x1*w[0,0]-w[2,0])/w[1,0])\n",
    "plt.plot(x1,(-x1 * w[1, 0] - w[0, 0]) / w[2, 0])\n",
    "\n",
    "plt.show()\n"
   ]
  },
  {
   "cell_type": "code",
   "execution_count": null,
   "id": "214ba896",
   "metadata": {},
   "outputs": [],
   "source": []
  },
  {
   "cell_type": "code",
   "execution_count": null,
   "id": "bc6367d0",
   "metadata": {},
   "outputs": [],
   "source": []
  },
  {
   "cell_type": "code",
   "execution_count": null,
   "id": "acba30df",
   "metadata": {},
   "outputs": [],
   "source": []
  }
 ],
 "metadata": {
  "kernelspec": {
   "display_name": "Python 3",
   "language": "python",
   "name": "python3"
  },
  "language_info": {
   "codemirror_mode": {
    "name": "ipython",
    "version": 3
   },
   "file_extension": ".py",
   "mimetype": "text/x-python",
   "name": "python",
   "nbconvert_exporter": "python",
   "pygments_lexer": "ipython3",
   "version": "3.8.8"
  }
 },
 "nbformat": 4,
 "nbformat_minor": 5
}
